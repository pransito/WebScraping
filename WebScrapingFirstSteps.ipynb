{
 "cells": [
  {
   "cell_type": "code",
   "execution_count": 1,
   "metadata": {},
   "outputs": [
    {
     "name": "stdout",
     "output_type": "stream",
     "text": [
      "Using HTTP proxy http://proxy.charite.de:8080\n"
     ]
    }
   ],
   "source": [
    "import requests\n",
    "from bs4 import BeautifulSoup\n",
    "proxies = {'http': 'http://proxy.charite.de:8080',\n",
    "           'https': 'https://proxy.charite.de:8080'}\n",
    "print(\"Using HTTP proxy %s\" % proxies['http'])"
   ]
  },
  {
   "cell_type": "code",
   "execution_count": 2,
   "metadata": {},
   "outputs": [
    {
     "name": "stdout",
     "output_type": "stream",
     "text": [
      "<class 'bs4.BeautifulSoup'>\n"
     ]
    }
   ],
   "source": [
    "curURL = 'http://www.aflcio.org/Legislation-and-Politics/Legislative-Alerts'\n",
    "s      = requests.session()\n",
    "r      = s.get(curURL,proxies=proxies)\n",
    "soup   = BeautifulSoup(r.text,\"html5lib\")\n",
    "print(type(soup))"
   ]
  },
  {
   "cell_type": "code",
   "execution_count": 4,
   "metadata": {},
   "outputs": [
    {
     "name": "stdout",
     "output_type": "stream",
     "text": [
      "<!DOCTYPE html>\n",
      "<html dir=\"ltr\" lang=\"en\" prefix=\"content: http://purl.org/rss/1.0/modules/content/  dc: http://purl.org/dc/terms/  foaf: http://xmlns.com/foaf/0.1/  og: http://ogp.me/ns#  rdfs: http://www.w3.org/2000/01/rdf-schema#  schema: http://schema.org/  sioc: http://rdfs.org/sioc/ns#  sioct: http://rdfs.org/sioc/types#  skos: http://www.w3.org/2004/02/skos/core#  xsd: http://www.w3.org/2001/XMLSchema# \" xmlns:article=\"http://ogp.me/ns/article#\" xmlns:book=\"http://ogp.me/ns/book#\" xmlns:product=\"http://ogp.me/ns/product#\" xmlns:profile=\"http://ogp.me/ns/profile#\" xmlns:video=\"http://ogp.me/ns/video#\">\n",
      " <head>\n",
      "  <meta charset=\"utf-8\"/>\n",
      "  <script type=\"text/javascript\">\n",
      "   window.NREUM||(NREUM={}),__nr_require=function(e,t,n){function r(n){if(!t[n]){var o=t[n]={exports:{}};e[n][0].call(o.exports,function(t){var o=e[n][1][t];return r(o||t)},o,o.exports)}return t[n].exports}if(\"function\"==typeof __nr_require)return __nr_require;for(var o=0;o<n.length;o++)r(n[o]);return r}({1:[functi\n"
     ]
    }
   ],
   "source": [
    "print(soup.prettify()[0:1000])"
   ]
  },
  {
   "cell_type": "code",
   "execution_count": 7,
   "metadata": {},
   "outputs": [
    {
     "data": {
      "text/html": [
       "<img src=\"http://www.openbookproject.net/tutorials/getdown/css/images/lesson4/HTMLDOMTree.png\"/>"
      ],
      "text/plain": [
       "<IPython.core.display.Image object>"
      ]
     },
     "execution_count": 7,
     "metadata": {},
     "output_type": "execute_result"
    }
   ],
   "source": [
    "from IPython.display import Image\n",
    "url = 'http://www.openbookproject.net/tutorials/getdown/css/images/lesson4/HTMLDOMTree.png'\n",
    "Image(url = url)\n",
    "\n",
    "#from IPython.display import Image\n",
    "#Image('http://www.openbookproject.net/tutorials/getdown/css/images/lesson4/HTMLDOMTree.png')"
   ]
  },
  {
   "cell_type": "code",
   "execution_count": 8,
   "metadata": {},
   "outputs": [
    {
     "data": {
      "text/html": [
       "<img src=\"http://www.cs.toronto.edu/~shiva/cscb07/img/dom/treeStructure.png\"/>"
      ],
      "text/plain": [
       "<IPython.core.display.Image object>"
      ]
     },
     "execution_count": 8,
     "metadata": {},
     "output_type": "execute_result"
    }
   ],
   "source": [
    "Image(url = 'http://www.cs.toronto.edu/~shiva/cscb07/img/dom/treeStructure.png')"
   ]
  },
  {
   "cell_type": "code",
   "execution_count": 13,
   "metadata": {
    "scrolled": true
   },
   "outputs": [
    {
     "data": {
      "text/html": [
       "\n",
       "        <iframe\n",
       "            width=\"700\"\n",
       "            height=\"350\"\n",
       "            src=\"http://stackoverflow.org\"\n",
       "            frameborder=\"0\"\n",
       "            allowfullscreen\n",
       "        ></iframe>\n",
       "        "
      ],
      "text/plain": [
       "<IPython.lib.display.IFrame at 0x75ace10>"
      ]
     },
     "execution_count": 13,
     "metadata": {},
     "output_type": "execute_result"
    }
   ],
   "source": [
    "#from IPython.core.display import display, HTML\n",
    "#display(HTML('<iframe src=http://www.aflcio.org/Legislation-and-Politics/Legislative-Alerts width=700 height=500></iframe>'))\n",
    "\n",
    "from IPython.display import IFrame\n",
    "IFrame('http://stackoverflow.org', width=700, height=350)"
   ]
  },
  {
   "cell_type": "code",
   "execution_count": 15,
   "metadata": {},
   "outputs": [
    {
     "name": "stdout",
     "output_type": "stream",
     "text": [
      "             </span>\n",
      "                  </h2>\n",
      "                  <time datetime=\"2018-05-09T16:48:51-0400\">\n",
      "                   May 9, 2018\n",
      "                  </time>\n",
      "                 </div>\n",
      "                </a>\n",
      "                <div>\n",
      "                </div>\n",
      "               </div>\n",
      "              </div>\n",
      "              <div class=\"block block-content col-12 col-lg-4\">\n",
      "               <div class=\"content-details \">\n",
      "                <a class=\"b-inner\" href=\"/about/advocacy/legislative-alerts/letter-opposing-legislation-would-cut-federal-retirement-benefits\">\n",
      "                 <div class=\"b-text\">\n",
      "                  <h5 class=\"content-type\">\n",
      "                   Legislative Alert\n",
      "                  </h5>\n",
      "                  <h2 class=\"content-title\">\n",
      "                   <span>\n",
      "                    Letter Opposing Legislation that Would Cut Federal Retirement Benefits\n",
      "                   </span>\n",
      "                  </h2>\n",
      "                  <time datetime=\"2018-05-08T17:18:08-0400\">\n",
      "                   May 8, 2018\n",
      "                  </time>\n",
      "                 </div>\n",
      "                </a>\n",
      "                <div>\n",
      "                </div>\n",
      "               </div>\n",
      "              </div>\n",
      "              <div class=\"block block-content col-12 col-lg-4\">\n",
      "               <div class=\"content-details \">\n",
      "                <a class=\"b-inner\" href=\"/about/advocacy/legislative-alerts/letter-opposing-michael-brennans-nomination-us-court-appeals-0\">\n",
      "                 <div class=\"b-text\">\n",
      "                  <h5 class=\"content-type\">\n",
      "                   Legislative Alert\n",
      "                  </h5>\n",
      "                  <h2 class=\"content-title\">\n",
      "                   <span>\n",
      "                    Letter Opposing Michael Brennan's Nomination to the U.S. Court of Appeals\n",
      "                   </span>\n",
      "                  </h2>\n",
      "                  <time datetime=\n"
     ]
    }
   ],
   "source": [
    "print (soup.prettify()[28700:30500])"
   ]
  },
  {
   "cell_type": "code",
   "execution_count": 22,
   "metadata": {},
   "outputs": [
    {
     "name": "stdout",
     "output_type": "stream",
     "text": [
      "<class 'bs4.element.ResultSet'>\n"
     ]
    }
   ],
   "source": [
    "letters = soup.find_all(\"div\", class_=\"content-details\")\n",
    "print (type(letters))"
   ]
  },
  {
   "cell_type": "code",
   "execution_count": 23,
   "metadata": {},
   "outputs": [
    {
     "name": "stdout",
     "output_type": "stream",
     "text": [
      "18\n"
     ]
    }
   ],
   "source": [
    "print(len(letters))"
   ]
  },
  {
   "cell_type": "code",
   "execution_count": null,
   "metadata": {},
   "outputs": [],
   "source": []
  }
 ],
 "metadata": {
  "kernelspec": {
   "display_name": "Python 3",
   "language": "python",
   "name": "python3"
  },
  "language_info": {
   "codemirror_mode": {
    "name": "ipython",
    "version": 3
   },
   "file_extension": ".py",
   "mimetype": "text/x-python",
   "name": "python",
   "nbconvert_exporter": "python",
   "pygments_lexer": "ipython3",
   "version": "3.5.5"
  }
 },
 "nbformat": 4,
 "nbformat_minor": 2
}
