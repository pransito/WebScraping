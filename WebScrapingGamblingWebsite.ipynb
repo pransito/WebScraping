{
 "cells": [
  {
   "cell_type": "code",
   "execution_count": 4,
   "metadata": {},
   "outputs": [],
   "source": [
    "import requests\n",
    "from bs4 import BeautifulSoup\n",
    "import html5lib\n",
    "#proxies = {'http': 'http://proxy.charite.de:8080',\n",
    "\n",
    "#           'https': 'https://proxy.charite.de:8080'}\n",
    "#print(\"Using HTTP proxy %s\" % proxies['http'])"
   ]
  },
  {
   "cell_type": "code",
   "execution_count": 5,
   "metadata": {},
   "outputs": [
    {
     "name": "stdout",
     "output_type": "stream",
     "text": [
      "<class 'bs4.BeautifulSoup'>\n"
     ]
    }
   ],
   "source": [
    "curURL = 'http://www.spielsucht-hilfe-berlin.de/shb/index.php?title=Spezial:MultiCategorySearch&limit=500&offset=0&wpInCategory1=Gl%C3%BCcksspielsucht'\n",
    "s      = requests.session()\n",
    "#r      = s.get(curURL,proxies=proxies)\n",
    "r      = s.get(curURL)\n",
    "soup   = BeautifulSoup(r.text,\"html5lib\")\n",
    "print(type(soup))"
   ]
  },
  {
   "cell_type": "code",
   "execution_count": 7,
   "metadata": {},
   "outputs": [
    {
     "data": {
      "text/html": [
       "<img src=\"http://www.openbookproject.net/tutorials/getdown/css/images/lesson4/HTMLDOMTree.png\"/>"
      ],
      "text/plain": [
       "<IPython.core.display.Image object>"
      ]
     },
     "execution_count": 7,
     "metadata": {},
     "output_type": "execute_result"
    }
   ],
   "source": [
    "from IPython.display import Image\n",
    "url = 'http://www.openbookproject.net/tutorials/getdown/css/images/lesson4/HTMLDOMTree.png'\n",
    "Image(url = url)"
   ]
  },
  {
   "cell_type": "code",
   "execution_count": 8,
   "metadata": {},
   "outputs": [
    {
     "data": {
      "text/html": [
       "<img src=\"http://www.cs.toronto.edu/~shiva/cscb07/img/dom/treeStructure.png\"/>"
      ],
      "text/plain": [
       "<IPython.core.display.Image object>"
      ]
     },
     "execution_count": 8,
     "metadata": {},
     "output_type": "execute_result"
    }
   ],
   "source": [
    "Image(url = 'http://www.cs.toronto.edu/~shiva/cscb07/img/dom/treeStructure.png')"
   ]
  },
  {
   "cell_type": "code",
   "execution_count": 9,
   "metadata": {},
   "outputs": [
    {
     "name": "stdout",
     "output_type": "stream",
     "text": [
      "<class 'bs4.element.ResultSet'>\n",
      "142\n"
     ]
    }
   ],
   "source": [
    "links = soup.find_all(\"li\")\n",
    "print (type(links))\n",
    "print(len(links))"
   ]
  },
  {
   "cell_type": "code",
   "execution_count": 10,
   "metadata": {},
   "outputs": [
    {
     "name": "stdout",
     "output_type": "stream",
     "text": [
      "<li><a href=\"/shb/index.php?title=AG_Spielsucht\" title=\"AG Spielsucht\">AG Spielsucht</a></li>\n"
     ]
    }
   ],
   "source": [
    "print(links[0])"
   ]
  },
  {
   "cell_type": "code",
   "execution_count": 11,
   "metadata": {},
   "outputs": [
    {
     "name": "stdout",
     "output_type": "stream",
     "text": [
      "Psychotherapeutische Praxis - Manouchehr Djafari\n",
      "{}\n",
      "Psychotherapeutische Praxis - Uwe Schneider\n",
      "{}\n",
      "FAIRPLAY des KKH e.V.\n",
      "{}\n",
      "Psychotherapeutische Praxis - Christoph Kussmaul\n",
      "{}\n",
      "Psychotherapeutische Praxis - Verena Engels\n",
      "{}\n"
     ]
    }
   ],
   "source": [
    "contacts = {}\n",
    "for element in links:\n",
    "    contacts[element.a.get_text()] = {}\n",
    "first_keys = list(contacts.keys())[0:5]\n",
    "for key in first_keys:\n",
    "    print(key)\n",
    "    print(contacts[key])"
   ]
  },
  {
   "cell_type": "code",
   "execution_count": 12,
   "metadata": {},
   "outputs": [
    {
     "name": "stdout",
     "output_type": "stream",
     "text": [
      "/shb/index.php?title=AG_Spielsucht\n"
     ]
    }
   ],
   "source": [
    "print(links[0].a[\"href\"])\n",
    "prefix = 'http://www.spielsucht-hilfe-berlin.de'"
   ]
  },
  {
   "cell_type": "code",
   "execution_count": 13,
   "metadata": {},
   "outputs": [],
   "source": [
    "for element in links:\n",
    "    contacts[element.a.get_text()][\"link\"] = prefix + element.a[\"href\"]"
   ]
  },
  {
   "cell_type": "code",
   "execution_count": 14,
   "metadata": {},
   "outputs": [
    {
     "name": "stdout",
     "output_type": "stream",
     "text": [
      "Psychotherapeutische Praxis - Manouchehr Djafari\n",
      "{'link': 'http://www.spielsucht-hilfe-berlin.de/shb/index.php?title=Psychotherapeutische_Praxis_-_Manouchehr_Djafari'}\n",
      "Psychotherapeutische Praxis - Uwe Schneider\n",
      "{'link': 'http://www.spielsucht-hilfe-berlin.de/shb/index.php?title=Psychotherapeutische_Praxis_-_Uwe_Schneider'}\n",
      "FAIRPLAY des KKH e.V.\n",
      "{'link': 'http://www.spielsucht-hilfe-berlin.de/shb/index.php?title=FAIRPLAY_des_KKH_e.V.'}\n",
      "Psychotherapeutische Praxis - Christoph Kussmaul\n",
      "{'link': 'http://www.spielsucht-hilfe-berlin.de/shb/index.php?title=Psychotherapeutische_Praxis_-_Christoph_Kussmaul'}\n",
      "Psychotherapeutische Praxis - Verena Engels\n",
      "{'link': 'http://www.spielsucht-hilfe-berlin.de/shb/index.php?title=Psychotherapeutische_Praxis_-_Verena_Engels'}\n"
     ]
    }
   ],
   "source": [
    "for key in first_keys:\n",
    "    print(key)\n",
    "    print(contacts[key])"
   ]
  },
  {
   "cell_type": "code",
   "execution_count": 16,
   "metadata": {
    "scrolled": true
   },
   "outputs": [
    {
     "name": "stdout",
     "output_type": "stream",
     "text": [
      "Psychotherapeutische Praxis - Uwe Schneider\n",
      "{'link': 'http://www.spielsucht-hilfe-berlin.de/shb/index.php?title=Psychotherapeutische_Praxis_-_Uwe_Schneider'}\n",
      "http://www.spielsucht-hilfe-berlin.de/shb/index.php?title=Psychotherapeutische_Praxis_-_Uwe_Schneider\n",
      "<class 'bs4.BeautifulSoup'>\n"
     ]
    }
   ],
   "source": [
    "# now go the link and apply a function that reads out all the information\n",
    "# do it with first one first\n",
    "key = list(contacts.keys())[0:2][1]\n",
    "\n",
    "#for key in first_keys:\n",
    "print(key)\n",
    "print(contacts[key])\n",
    "\n",
    "# get the link\n",
    "curLink = contacts[key]['link']\n",
    "print(curLink)\n",
    "\n",
    "s      = requests.session()\n",
    "#r      = s.get(curLink,proxies=proxies)\n",
    "r      = s.get(curLink)\n",
    "ssoup  = BeautifulSoup(r.text,\"html5lib\")\n",
    "print(type(ssoup))"
   ]
  },
  {
   "cell_type": "code",
   "execution_count": 17,
   "metadata": {},
   "outputs": [],
   "source": [
    "# functions\n",
    "def getLink(linkEntry):\n",
    "    return(linkEntry['link'])\n",
    "\n",
    "def getInfos(link):\n",
    "    \"\"\"Takes the link of a help institution and extracts\n",
    "    name, address, contact\"\"\"\n",
    "    s = requests.session()\n",
    "    #r = s.get(curLink,proxies=proxies)\n",
    "    r = s.get(link)\n",
    "    ssoup = BeautifulSoup(r.text,\"html5lib\")\n",
    "    infos = ssoup.find_all(\"td\") # td means line of a table\n",
    "    try:\n",
    "        retInfos = [infos[0].get_text(),infos[3].get_text(),infos[5].get_text()]\n",
    "    except:\n",
    "        print('infos not in expected format')\n",
    "        retInfos = ['NA','NA','NA']\n",
    "    return(retInfos)"
   ]
  },
  {
   "cell_type": "code",
   "execution_count": 21,
   "metadata": {},
   "outputs": [
    {
     "name": "stdout",
     "output_type": "stream",
     "text": [
      "infos not in expected format\n",
      "infos not in expected format\n",
      "infos not in expected format\n",
      "infos not in expected format\n",
      "infos not in expected format\n",
      "infos not in expected format\n",
      "infos not in expected format\n",
      "infos not in expected format\n",
      "137\r"
     ]
    }
   ],
   "source": [
    "ID = []\n",
    "name = []\n",
    "address = []\n",
    "contact = []\n",
    "\n",
    "for counter, value in enumerate(contacts):\n",
    "    print (counter, end=\"\\r\")\n",
    "    curLink = getLink(contacts[value])\n",
    "    retInfos = getInfos(curLink)\n",
    "    ID.append(value)\n",
    "    name.append(retInfos[0])\n",
    "    address.append(retInfos[1])\n",
    "    contact.append(retInfos[2])"
   ]
  },
  {
   "cell_type": "code",
   "execution_count": 22,
   "metadata": {},
   "outputs": [],
   "source": [
    "import pandas as pd\n",
    "import openpyxl\n",
    "\n",
    "#pd.DataFrame(ID)\n",
    "#pd.DataFrame(name)\n",
    "\n",
    "df = pd.DataFrame({'ID': ID, 'Name': name, 'Address': address,\n",
    "             'Contact' : contact})\n",
    "\n",
    "df.to_excel('Spielsucht_Hilfe.xlsx')"
   ]
  },
  {
   "cell_type": "code",
   "execution_count": 23,
   "metadata": {},
   "outputs": [],
   "source": [
    "from openpyxl import load_workbook\n",
    "from openpyxl.styles import Alignment\n",
    "\n",
    "# multi-line wrap\n",
    "wb = load_workbook('Spielsucht_Hilfe.xlsx')\n",
    "ws = wb.active # wb.active returns a Worksheet object\n",
    "\n",
    "for row in ws.iter_rows():\n",
    "    for cell in row:\n",
    "        cell.alignment = Alignment(wrapText=True)\n",
    "    \n",
    "    from openpyxl import Workbook\n",
    "\n",
    "wb.save(\"Spielsucht_Hilfe_wrapped.xlsx\")\n",
    "\n",
    "#worksheet.cell('A1').style.alignment.wrap_text = True\n",
    "#worksheet.cell('A1').value = \"Line 1\\nLine 2\\nLine 3\"\n",
    "\n",
    "#workbook.save('wrap_text1.xlsx')\n"
   ]
  },
  {
   "cell_type": "code",
   "execution_count": null,
   "metadata": {},
   "outputs": [],
   "source": []
  }
 ],
 "metadata": {
  "kernelspec": {
   "display_name": "Python 3",
   "language": "python",
   "name": "python3"
  },
  "language_info": {
   "codemirror_mode": {
    "name": "ipython",
    "version": 3
   },
   "file_extension": ".py",
   "mimetype": "text/x-python",
   "name": "python",
   "nbconvert_exporter": "python",
   "pygments_lexer": "ipython3",
   "version": "3.5.5"
  }
 },
 "nbformat": 4,
 "nbformat_minor": 2
}
